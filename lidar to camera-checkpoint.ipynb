{
 "cells": [
  {
   "cell_type": "code",
   "execution_count": 133,
   "id": "3a916a4d",
   "metadata": {},
   "outputs": [],
   "source": [
    "from PIL import Image\n",
    "import numpy as np\n",
    "import scipy as sp\n",
    "from numpy import asarray\n"
   ]
  },
  {
   "cell_type": "code",
   "execution_count": 134,
   "id": "a9d5a4df",
   "metadata": {},
   "outputs": [],
   "source": [
    "img_lidar = Image.open(r\"C:\\Users\\amazi\\Downloads\\racing_lidar_projection.png\")\n",
    "lidar_arr = asarray(img_lidar)\n",
    "img_cam = Image.open(r\"C:\\Users\\amazi\\Downloads\\racing_camera.png\")\n",
    "cam_arr = asarray(img_cam)\n"
   ]
  },
  {
   "cell_type": "code",
   "execution_count": null,
   "id": "85785ec0",
   "metadata": {},
   "outputs": [],
   "source": [
    "\n"
   ]
  },
  {
   "cell_type": "code",
   "execution_count": 135,
   "id": "1d13653b",
   "metadata": {},
   "outputs": [],
   "source": [
    "# convert RGB to distance from camera (Z coordinate) (don't need to do this for 2D)\n"
   ]
  },
  {
   "cell_type": "code",
   "execution_count": 136,
   "id": "c00ffad9",
   "metadata": {},
   "outputs": [],
   "source": [
    "# [u,v,w] = C[X,Y,Z,1], where X,Y,Z are the coordinate of point in real world taken from lidar image\n",
    "# or [u,v,1] = H[X,Y,1] for 2D plane, Z=0\n",
    "# and u,v are cartesian coordinates of the camera image\n",
    "# we want to use a few points to calibrate the C matrix (or specifically 4 points for H matrix)\n",
    "\n",
    "# to calibrate, find 4 significant points on both images that match each other (do this manually)\n",
    "# because we want 8 equations to solve for 8 unknowns h11-h32, with h33 normalized as 1\n",
    "# in this example, we will use the tips of poles and tip of pavillion, all of which are\n",
    "# identifiable by naked eye\n",
    "\n",
    "# first, find 4 pairs of [u,v] and [X,Y] that match using the Pix Spy tool\n",
    "x1 = 61; y1 = 37 # pavillion top of lidar image\n",
    "x2 = 168; y2 = 12 # leftmost pole top of lidar image\n",
    "x3 = 406; y3 = 98 # middle pole top of lidar image\n",
    "x4 = 500; y4 = 90 # rightmost pole top of lidar image\n",
    "u1 = 62; v1 = 48 # pavillion top of camera image\n",
    "u2 = 171; v2 = 1 # leftmost pole top of camera image\n",
    "u3 = 410; v3 = 106 # middle pole top of camera image\n",
    "u4 = 505; v4 = 97 # rightmost pole top of camera image"
   ]
  },
  {
   "cell_type": "code",
   "execution_count": 137,
   "id": "17199401",
   "metadata": {},
   "outputs": [],
   "source": [
    "# P is the solver matrix used to solve for h11, h12...h33 (numbers in H), where [u,v,1] = H[X,Y,1]\n",
    "# P * h_v = q, where h_v is the 1x9 vector composed of h11-h33\n",
    "P = np.array([[x1, y1, 1, 0, 0, 0, -x1*u1, -y1*u1, -1*u1],\n",
    "             [0, 0, 0, x1, y1, 1, -x1*v1, -y1*v1, -1*v1],\n",
    "             [x2, y2, 1, 0, 0, 0, -x2*u2, -y2*u2, -1*u2],\n",
    "             [0, 0, 0, x2, y2, 1, -x2*v2, -y2*v2, -1*v2],\n",
    "             [x3, y3, 1, 0, 0, 0, -x3*u3, -y3*u3, -1*u3],\n",
    "             [0, 0, 0, x3, y3, 1, -x3*v3, -y3*v3, -1*v3],\n",
    "             [x4, y4, 1, 0, 0, 0, -x4*u4, -y4*u4, -1*u4],\n",
    "             [0, 0, 0, x4, y4, 1, -x4*v4, -y4*v4, -1*v4],\n",
    "             [0, 0, 0, 0, 0, 0, x1+x2+x3+x4, y1+y2+y3+y4, 4],])\n",
    "# we want to utilize all given data points to create a non-singular matrix\n",
    "q = np.array([0, 0, 0, 0, 0, 0, 0, 0, 4])\n",
    "\n",
    "h_v = np.linalg.solve(P,q)\n",
    "\n",
    "H = np.array([[h_v[0], h_v[1], h_v[2]],\n",
    "             [h_v[3], h_v[4], h_v[5]],\n",
    "             [h_v[6], h_v[7], h_v[8]]])\n",
    "\n"
   ]
  },
  {
   "cell_type": "code",
   "execution_count": 138,
   "id": "1057bdf4",
   "metadata": {},
   "outputs": [
    {
     "name": "stdout",
     "output_type": "stream",
     "text": [
      "projected homogeneous coordinates:  [230.80719043 138.8651283    1.23571636]\n",
      "projected cartesian coordinates:  186.78007168676768 ,  112.37621570853979\n"
     ]
    }
   ],
   "source": [
    "# once the H matrix is calibrated, can correspond every point on the lidar matrix to every point of camera matrix\n",
    "# therefore aligning the images\n",
    "# enter the pixel location on the input matrix to be projected:\n",
    "X = 150\n",
    "Y = 100\n",
    "homog = np.dot(H, [X,Y,1])\n",
    "proj_x = homog[0]/homog[2]\n",
    "proj_y = homog[1]/homog[2]\n",
    "print(\"projected homogeneous coordinates: \", homog)\n",
    "print(\"projected cartesian coordinates: \", proj_x, \", \", proj_y)"
   ]
  },
  {
   "cell_type": "code",
   "execution_count": null,
   "id": "4d629804",
   "metadata": {},
   "outputs": [],
   "source": []
  }
 ],
 "metadata": {
  "kernelspec": {
   "display_name": "Python 3",
   "language": "python",
   "name": "python3"
  },
  "language_info": {
   "codemirror_mode": {
    "name": "ipython",
    "version": 3
   },
   "file_extension": ".py",
   "mimetype": "text/x-python",
   "name": "python",
   "nbconvert_exporter": "python",
   "pygments_lexer": "ipython3",
   "version": "3.8.8"
  }
 },
 "nbformat": 4,
 "nbformat_minor": 5
}
