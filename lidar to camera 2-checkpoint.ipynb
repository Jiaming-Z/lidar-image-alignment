{
 "cells": [
  {
   "cell_type": "code",
   "execution_count": 1,
   "id": "3a916a4d",
   "metadata": {},
   "outputs": [],
   "source": [
    "from PIL import Image\n",
    "import numpy as np\n",
    "import scipy as sp\n",
    "from numpy import asarray\n"
   ]
  },
  {
   "cell_type": "code",
   "execution_count": 2,
   "id": "c00ffad9",
   "metadata": {},
   "outputs": [],
   "source": [
    "# [u,v,w] = C[X,Y,Z,1], where X,Y,Z are the coordinate of point in real world taken from lidar image\n",
    "# or [u,v,1] = H[X,Y,1] for 2D plane, Z=0\n",
    "# and u,v are cartesian coordinates of the camera image\n",
    "# we want to use a few points to calibrate the C matrix (or specifically 4 points for H matrix)\n",
    "\n",
    "# to calibrate, find 4 significant points on both images that match each other (do this manually using pixspy)\n",
    "# because we want 8 equations to solve for 8 unknowns h11-h32, with h33 normalized as 1\n",
    "# in this example, we will use the tips of poles and tip of pavillion, all of which are\n",
    "# identifiable by naked eye\n",
    "\n",
    "# first, find pairs of [u,v] and [X,Y] that match using the Pix Spy tool (we need minimum of 4, but here are 8)\n",
    "\n",
    "# pixel coordinates on lidar image:\n",
    "x1 = 61; y1 = 37 # pavillion top \n",
    "x2 = 168; y2 = 12 # leftmost pole top \n",
    "x3 = 406; y3 = 98 # middle pole top \n",
    "x4 = 500; y4 = 90 # rightmost pole top \n",
    "x5 = 81 ; y5 = 136 # top of obeserver's head\n",
    "x6 = 258 ; y6 = 161 # leftmost foothill on horizon\n",
    "x7 = 514 ; y7 = 288 # bottom right corner of grey asphalt\n",
    "x8 = 2; y8 = 319 # bottom left corner of concrete wall\n",
    "\n",
    "# corresponding points on camera image: \n",
    "u1 = 61; v1 = 46\n",
    "u2 = 171; v2 = 1 \n",
    "u3 = 410; v3 = 106 \n",
    "u4 = 505; v4 = 97 \n",
    "u5 = 82; v5 = 140\n",
    "u6 = 259; v6 = 164\n",
    "u7 = 514; v7 = 274\n",
    "u8 = 2; v8 = 306"
   ]
  },
  {
   "cell_type": "code",
   "execution_count": 3,
   "id": "a9d5a4df",
   "metadata": {},
   "outputs": [],
   "source": [
    "img_lidar = Image.open(r\"C:\\Users\\amazi\\Downloads\\racing_lidar_projection.png\")\n",
    "lidar_arr = asarray(img_lidar)\n",
    "img_cam = Image.open(r\"C:\\Users\\amazi\\Downloads\\racing_camera.png\")\n",
    "cam_arr = asarray(img_cam)\n"
   ]
  },
  {
   "cell_type": "code",
   "execution_count": null,
   "id": "85785ec0",
   "metadata": {},
   "outputs": [],
   "source": []
  },
  {
   "cell_type": "code",
   "execution_count": 4,
   "id": "1d13653b",
   "metadata": {},
   "outputs": [],
   "source": [
    "# convert RGB to distance from camera (Z coordinate) (don't need to do this for 2D)\n"
   ]
  },
  {
   "cell_type": "code",
   "execution_count": 8,
   "id": "17199401",
   "metadata": {},
   "outputs": [
    {
     "name": "stdout",
     "output_type": "stream",
     "text": [
      "Homography matrix H0: \n",
      " [[ 1.01526569e+00  1.18660174e+00 -4.95639886e+01]\n",
      " [-3.33709429e-02  1.52290662e+00 -1.18776846e+01]\n",
      " [-1.24578487e-04  4.73108020e-03  7.55032644e-01]]\n",
      "This is an overdetermined system\n"
     ]
    }
   ],
   "source": [
    "# method 1:\n",
    "# P is the solver matrix used to solve for h11, h12...h33 (numbers in H), where [u,v,1] = H[X,Y,1]\n",
    "# P * h_v = q, where h_v is the 1x9 vector composed of h11-h33\n",
    "P = np.array([[x1, y1, 1, 0, 0, 0, -x1*u1, -y1*u1, -1*u1],\n",
    "             [0, 0, 0, x1, y1, 1, -x1*v1, -y1*v1, -1*v1],\n",
    "             [x2, y2, 1, 0, 0, 0, -x2*u2, -y2*u2, -1*u2],\n",
    "             [0, 0, 0, x2, y2, 1, -x2*v2, -y2*v2, -1*v2],\n",
    "             [x3, y3, 1, 0, 0, 0, -x3*u3, -y3*u3, -1*u3],\n",
    "             [0, 0, 0, x3, y3, 1, -x3*v3, -y3*v3, -1*v3],\n",
    "             [x4, y4, 1, 0, 0, 0, -x4*u4, -y4*u4, -1*u4],\n",
    "             [0, 0, 0, x4, y4, 1, -x4*v4, -y4*v4, -1*v4],\n",
    "             [0, 0, 0, 0, 0, 0, x1+x2+x3+x4, y1+y2+y3+y4, 4],])\n",
    "# we want to utilize all given data points to create a non-singular matrix\n",
    "q = np.array([0, 0, 0, 0, 0, 0, 0, 0, 4])\n",
    "\n",
    "h0_v = np.linalg.solve(P,q)\n",
    "\n",
    "H0 = np.array([[h0_v[0], h0_v[1], h0_v[2]],\n",
    "             [h0_v[3], h0_v[4], h0_v[5]],\n",
    "             [h0_v[6], h0_v[7], h0_v[8]]])\n",
    "\n",
    "min_sing_val_P = np.linalg.svd(P)[1][8]\n",
    "print(\"Homography matrix H0: \\n\", H0)\n",
    "if (min_sing_val_P > 0):\n",
    "    print(\"This is an overdetermined system\")\n",
    "\n"
   ]
  },
  {
   "cell_type": "code",
   "execution_count": 19,
   "id": "ca0f8337",
   "metadata": {},
   "outputs": [
    {
     "name": "stdout",
     "output_type": "stream",
     "text": [
      "Homography matrix H1: \n",
      " [[ 1.94996538e-02  2.32668805e-02 -9.71909901e-01]\n",
      " [-6.31908950e-04  2.92969951e-02 -2.31091732e-01]\n",
      " [-2.43404437e-06  9.26994698e-05  1.44031187e-02]]\n",
      "This is an overdetermined system\n",
      "Goodness of fit based on smallest singular value of P1:  0.01459967204541873\n"
     ]
    }
   ],
   "source": [
    "# method 2\n",
    "# arrange P1 in a way such that P1 * h_v1 = 0, here we can't solve directly for h_v1\n",
    "# instead we use SVD decomposition, P1 = U * sig * VT\n",
    "# use the singular vectors v corresponding to the smallest singular value as h_v1\n",
    "P1 = np.array([[-x1, -y1, -1, 0, 0, 0, x1*u1, y1*u1, 1*u1],\n",
    "             [0, 0, 0, -x1, -y1, -1, x1*v1, y1*v1, 1*v1],\n",
    "             [-x2, -y2, -1, 0, 0, 0, x2*u2, y2*u2, 1*u2],\n",
    "             [0, 0, 0, -x2, -y2, -1, x2*v2, y2*v2, 1*v2],\n",
    "             [-x3, -y3, -1, 0, 0, 0, x3*u3, y3*u3, 1*u3],\n",
    "             [0, 0, 0, -x3, -y3, -1, x3*v3, y3*v3, 1*v3],\n",
    "             [-x4, -y4, -1, 0, 0, 0, x4*u4, y4*u4, 1*u4],\n",
    "             [0, 0, 0, -x4, -y4, -1, x4*v4, y4*v4, 1*v4],\n",
    "             [0, 0, 0, 0, 0, 0, 0, 0, 1],])\n",
    "\n",
    "h_v1 = np.linalg.svd(P1)[2][8]\n",
    "H1 = np.array([[h_v1[0], h_v1[1], h_v1[2]],\n",
    "             [h_v1[3], h_v1[4], h_v1[5]],\n",
    "             [h_v1[6], h_v1[7], h_v1[8]]])\n",
    "\n",
    "min_sing_val_P1 = np.linalg.svd(P1)[1][8]\n",
    "print(\"Homography matrix H1: \\n\", H1)\n",
    "if (min_sing_val_P1 > 0):\n",
    "    print(\"This is an overdetermined system\")\n",
    "print(\"Goodness of fit based on smallest singular value of P1: \", min_sing_val_P1)\n"
   ]
  },
  {
   "cell_type": "code",
   "execution_count": 20,
   "id": "f25b764d",
   "metadata": {},
   "outputs": [
    {
     "name": "stdout",
     "output_type": "stream",
     "text": [
      "Homography matrix H2: \n",
      " [[-9.70004185e-03 -3.34600094e-03  9.49909732e-01]\n",
      " [-8.66241135e-04 -8.60636096e-03  3.12201003e-01]\n",
      " [-5.27928669e-06 -8.88665785e-06 -4.68279189e-03]]\n",
      "This is an overdetermined system\n",
      "Goodness of fit based on smallest singular value of P2:  0.8069625256328127\n"
     ]
    }
   ],
   "source": [
    "# method 2.5\n",
    "# same concept as 2, but using more data points, can do this because we can do SVD on non-square matrices\n",
    "# Because this has more data points, it is more overdetermined, thus minimum singular value will be greater,\n",
    "# meaning the specific fit between the sets of x,y and u,v used for training is not as good as previous part.\n",
    "# But having more data points will help us get a more accurate projection, especially when these data points \n",
    "# are spread out in different parts of the image, so the homography will better fit the projection of image as a whole.\n",
    "\n",
    "P2 = np.array([[-x1, -y1, -1, 0, 0, 0, x1*u1, y1*u1, 1*u1],\n",
    "             [0, 0, 0, -x1, -y1, -1, x1*v1, y1*v1, 1*v1],\n",
    "             [-x2, -y2, -1, 0, 0, 0, x2*u2, y2*u2, 1*u2],\n",
    "             [0, 0, 0, -x2, -y2, -1, x2*v2, y2*v2, 1*v2],\n",
    "             [-x3, -y3, -1, 0, 0, 0, x3*u3, y3*u3, 1*u3],\n",
    "             [0, 0, 0, -x3, -y3, -1, x3*v3, y3*v3, 1*v3],\n",
    "             [-x4, -y4, -1, 0, 0, 0, x4*u4, y4*u4, 1*u4],\n",
    "             [0, 0, 0, -x4, -y4, -1, x4*v4, y4*v4, 1*v4],\n",
    "             [-x5, -y5, -1, 0, 0, 0, x5*u5, y5*u5, 1*u5],\n",
    "             [0, 0, 0, -x5, -y5, -1, x4*v5, y4*v5, 1*v5],\n",
    "             [-x6, -y6, -1, 0, 0, 0, x6*u6, y6*u6, 1*u6],\n",
    "             [0, 0, 0, -x6, -y6, -1, x6*v6, y6*v6, 1*v6],\n",
    "             [-x7, -y7, -1, 0, 0, 0, x7*u7, y7*u7, 1*u7],\n",
    "             [0, 0, 0, -x7, -y7, -1, x7*v7, y7*v7, 1*v7],\n",
    "             [-x8, -y8, -1, 0, 0, 0, x8*u8, y8*u8, 1*u8],\n",
    "             [0, 0, 0, -x8, -y8, -1, x8*v8, y8*v8, 1*v8]])\n",
    "\n",
    "h_v2 = np.linalg.svd(P2)[2][8]\n",
    "H2 = np.array([[h_v2[0], h_v2[1], h_v2[2]],\n",
    "             [h_v2[3], h_v2[4], h_v2[5]],\n",
    "             [h_v2[6], h_v2[7], h_v2[8]]])\n",
    "\n",
    "min_sing_val_P2 = np.linalg.svd(P2)[1][8]\n",
    "print(\"Homography matrix H2: \\n\", H2)\n",
    "if (min_sing_val_P2 > 0):\n",
    "    print(\"This is an overdetermined system\")\n",
    "print(\"Goodness of fit based on smallest singular value of P2: \", min_sing_val_P2)\n"
   ]
  },
  {
   "cell_type": "code",
   "execution_count": 17,
   "id": "e20bc1b8",
   "metadata": {},
   "outputs": [
    {
     "name": "stdout",
     "output_type": "stream",
     "text": [
      "Homography matrix H3: \n",
      " [[-2.04071786e-02  5.92906364e-04 -1.80826719e-01]\n",
      " [ 1.17806220e-03 -1.69240593e-02 -9.82944828e-01]\n",
      " [-1.33184469e-07 -2.95394301e-07 -2.04094606e-02]]\n"
     ]
    }
   ],
   "source": [
    "# method 3, eigen decomposition of P3^T * P3\n",
    "# similar concept with method 2.5, arranging the SVD of P3, we have P3^T * P3 * h_v3 = 0\n",
    "# where columns of V in the SVD corresponds to the eigenvectors of P3^T * P3\n",
    "# so the eigenvector corresponding to the smallest eigenvalue will be the solution\n",
    "P3 = np.array([[-x1, -y1, -1, 0, 0, 0, x1*u1, y1*u1, 1*u1],\n",
    "             [0, 0, 0, -x1, -y1, -1, x1*v1, y1*v1, 1*v1],\n",
    "             [-x2, -y2, -1, 0, 0, 0, x2*u2, y2*u2, 1*u2],\n",
    "             [0, 0, 0, -x2, -y2, -1, x2*v2, y2*v2, 1*v2],\n",
    "             [-x3, -y3, -1, 0, 0, 0, x3*u3, y3*u3, 1*u3],\n",
    "             [0, 0, 0, -x3, -y3, -1, x3*v3, y3*v3, 1*v3],\n",
    "             [-x4, -y4, -1, 0, 0, 0, x4*u4, y4*u4, 1*u4],\n",
    "             [0, 0, 0, -x4, -y4, -1, x4*v4, y4*v4, 1*v4],\n",
    "             [-x5, -y5, -1, 0, 0, 0, x5*u5, y5*u5, 1*u5],\n",
    "             [0, 0, 0, -x5, -y5, -1, x4*v5, y4*v5, 1*v5],\n",
    "             [-x6, -y6, -1, 0, 0, 0, x6*u6, y6*u6, 1*u6],\n",
    "             [0, 0, 0, -x6, -y6, -1, x6*v6, y6*v6, 1*v6],\n",
    "             [-x7, -y7, -1, 0, 0, 0, x7*u7, y7*u7, 1*u7],\n",
    "             [0, 0, 0, -x7, -y7, -1, x7*v7, y7*v7, 1*v7],\n",
    "             [-x8, -y8, -1, 0, 0, 0, x8*u8, y8*u8, 1*u8],\n",
    "             [0, 0, 0, -x8, -y8, -1, x8*v8, y8*v8, 1*v8]])\n",
    "\n",
    "evals, evecs = np.linalg.eig(np.dot(np.transpose(P3),P3))\n",
    "h_v3 = np.transpose(evecs)[np.where(evals == min(abs(evals)))][0]\n",
    "\n",
    "H3 = np.array([[h_v3[0], h_v3[1], h_v3[2]],\n",
    "             [h_v3[3], h_v3[4], h_v3[5]],\n",
    "             [h_v3[6], h_v3[7], h_v3[8]]])\n",
    "print(\"Homography matrix H3: \\n\", H3)\n"
   ]
  },
  {
   "cell_type": "code",
   "execution_count": 21,
   "id": "7f7948d5",
   "metadata": {},
   "outputs": [
    {
     "name": "stdout",
     "output_type": "stream",
     "text": [
      "Homography matrix H3: \n",
      " [[ 1.00535860e+00 -1.00039079e-02  1.84385448e+00]\n",
      " [ 4.88146262e-03  9.46612635e-01  5.52510916e+00]\n",
      " [-3.55618313e-17 -5.46437895e-17  1.00000000e+00]]\n"
     ]
    }
   ],
   "source": [
    "# method 4, pseudoinverse \n",
    "# arrange P4 in a way such that P4 * h_v4 = q1, where q1 is given below, \n",
    "# since P4 is not sqaure, we can't use linalg.solve directly\n",
    "# we use the Moore-Penrose Pseudoinverse to find P4_inv, then we get P4_inv * q = h_v4\n",
    "P4 = np.array([[x1, y1, 1, 0, 0, 0, 0, 0, 0],\n",
    "             [0, 0, 0, x1, y1, 1, 0, 0, 0],\n",
    "             [0, 0, 0, 0, 0, 0, x1, y1, 1],\n",
    "             [x2, y2, 1, 0, 0, 0, 0, 0, 0],\n",
    "             [0, 0, 0, x2, y2, 1, 0, 0, 0],\n",
    "             [0, 0, 0, 0, 0, 0, x2, y2, 1],\n",
    "             [x3, y3, 1, 0, 0, 0, 0, 0, 0],\n",
    "             [0, 0, 0, x3, y3, 1, 0, 0, 0],\n",
    "             [0, 0, 0, 0, 0, 0, x3, y3, 1],\n",
    "             [x4, y4, 1, 0, 0, 0, 0, 0, 0],\n",
    "             [0, 0, 0, x4, y4, 1, 0, 0, 0],\n",
    "             [0, 0, 0, 0, 0, 0, x4, y4, 1],\n",
    "             [x5, y5, 1, 0, 0, 0, 0, 0, 0],\n",
    "             [0, 0, 0, x5, y5, 1, 0, 0, 0],\n",
    "             [0, 0, 0, 0, 0, 0, x5, y5, 1],\n",
    "             [x6, y6, 1, 0, 0, 0, 0, 0, 0],\n",
    "             [0, 0, 0, x6, y6, 1, 0, 0, 0],\n",
    "             [0, 0, 0, 0, 0, 0, x6, y6, 1],\n",
    "             [x7, y7, 1, 0, 0, 0, 0, 0, 0],\n",
    "             [0, 0, 0, x7, y7, 1, 0, 0, 0],\n",
    "             [0, 0, 0, 0, 0, 0, x7, y7, 1],\n",
    "             [x8, y8, 1, 0, 0, 0, 0, 0, 0],\n",
    "             [0, 0, 0, x8, y8, 1, 0, 0, 0],\n",
    "             [0, 0, 0, 0, 0, 0, x8, y8, 1]])\n",
    "\n",
    "q1 = np.array([u1, v1, 1, u2, v2, 1, u3, v3, 1, u4, v4, 1, u5, v5, 1, u6, v6, 1, u7, v7, 1, u8, v8, 1])\n",
    "\n",
    "P4_inv = np.linalg.pinv(P4)\n",
    "h_v4 = np.dot(P4_inv, q1)\n",
    "H4 = np.array([[h_v4[0], h_v4[1], h_v4[2]],\n",
    "             [h_v4[3], h_v4[4], h_v4[5]],\n",
    "             [h_v4[6], h_v4[7], h_v4[8]]])\n",
    "\n",
    "print(\"Homography matrix H4: \\n\", H4)\n"
   ]
  },
  {
   "cell_type": "code",
   "execution_count": 22,
   "id": "b530abcd",
   "metadata": {},
   "outputs": [],
   "source": [
    "# reshape a 3x3 H array to a 3x2 array, eliminating the effect of Z\n",
    "def ignoreZ(H):\n",
    "    return np.array([[H[0][0], H[0][1]],\n",
    "                     [H[1][0], H[1][1]],\n",
    "                     [H[2][0], H[2][1]]])"
   ]
  },
  {
   "cell_type": "code",
   "execution_count": null,
   "id": "35636ead",
   "metadata": {},
   "outputs": [],
   "source": [
    " "
   ]
  },
  {
   "cell_type": "code",
   "execution_count": 23,
   "id": "3e97545b",
   "metadata": {},
   "outputs": [
    {
     "name": "stdout",
     "output_type": "stream",
     "text": [
      "Condition number of H0 : 2.619427053029009\n",
      "Condition number of H1 : 2.6625543065598665\n",
      "Condition number of H2 : 1.6163448910597287\n",
      "Condition number of H3 : 1.2337828742814883\n",
      "Condition number of H4 : 1.062300090060913\n"
     ]
    }
   ],
   "source": [
    "# Using condition number to determine goodness of fit: https://en.wikipedia.org/wiki/Condition_number#Matrices\n",
    "# condition number = largest singular value of H / smallest singular value of H\n",
    "# for H * x = b, it represents the rate of x change given change in b, or for H^-1 * b = x, the rate of b change given change in x\n",
    "# so the smaller the condition number, the less [U, V, 1] will be affected by error of input [X, Y, 1],\n",
    "# thus the less the condition number is, the more \"accurate\" H will be (as in consistency of projecting nearby pixels to a general area)\n",
    "# since Z is set constant at 1, we want to only find the condition number based on the first 2 columns of H, \n",
    "# concept source: Alexander Soare @ stackexchange\n",
    "\n",
    "print(\"Condition number of H0 :\", np.linalg.svd(ignoreZ(H0))[1][0]/np.linalg.svd(ignoreZ(H0))[1][1])\n",
    "print(\"Condition number of H1 :\", np.linalg.svd(ignoreZ(H1))[1][0]/np.linalg.svd(ignoreZ(H1))[1][1])\n",
    "print(\"Condition number of H2 :\", np.linalg.svd(ignoreZ(H2))[1][0]/np.linalg.svd(ignoreZ(H2))[1][1])\n",
    "print(\"Condition number of H3 :\", np.linalg.svd(ignoreZ(H3))[1][0]/np.linalg.svd(ignoreZ(H3))[1][1])\n",
    "print(\"Condition number of H4 :\", np.linalg.svd(ignoreZ(H4))[1][0]/np.linalg.svd(ignoreZ(H4))[1][1])\n"
   ]
  },
  {
   "cell_type": "code",
   "execution_count": 24,
   "id": "1057bdf4",
   "metadata": {},
   "outputs": [
    {
     "name": "stdout",
     "output_type": "stream",
     "text": [
      "projected homogeneous coordinates:  [325.68433595  91.35034607   1.        ]\n",
      "projected cartesian coordinates:  325.68433595191567 ,  91.35034606677397\n"
     ]
    }
   ],
   "source": [
    "# once the H matrix is calibrated, can correspond every point on the lidar matrix to every point of camera matrix\n",
    "# therefore aligning the images\n",
    "# enter the pixel location on the input matrix to be projected:\n",
    "# also choose which H matrix to use\n",
    "X = 323\n",
    "Y = 89\n",
    "H = H4\n",
    "homog = np.dot(H, [X,Y,1])\n",
    "proj_x = homog[0]/homog[2]\n",
    "proj_y = homog[1]/homog[2]\n",
    "print(\"projected homogeneous coordinates: \", homog)\n",
    "print(\"projected cartesian coordinates: \", proj_x, \", \", proj_y)\n"
   ]
  },
  {
   "cell_type": "code",
   "execution_count": null,
   "id": "4d629804",
   "metadata": {},
   "outputs": [],
   "source": []
  }
 ],
 "metadata": {
  "kernelspec": {
   "display_name": "Python 3",
   "language": "python",
   "name": "python3"
  },
  "language_info": {
   "codemirror_mode": {
    "name": "ipython",
    "version": 3
   },
   "file_extension": ".py",
   "mimetype": "text/x-python",
   "name": "python",
   "nbconvert_exporter": "python",
   "pygments_lexer": "ipython3",
   "version": "3.8.8"
  }
 },
 "nbformat": 4,
 "nbformat_minor": 5
}
